{
 "cells": [
  {
   "cell_type": "code",
   "execution_count": 1,
   "metadata": {},
   "outputs": [
    {
     "name": "stdout",
     "output_type": "stream",
     "text": [
      "3.4.2\n"
     ]
    }
   ],
   "source": [
    "import cv2\n",
    "#print(cv2.__version__)"
   ]
  },
  {
   "cell_type": "code",
   "execution_count": 7,
   "metadata": {},
   "outputs": [
    {
     "name": "stdout",
     "output_type": "stream",
     "text": [
      "月の面積 :  39340.5\n",
      "外接円の面積 :  40094.66\n",
      "月の面積/外接円の面積 :  0.9811905126518095\n"
     ]
    }
   ],
   "source": [
    "import cv2\n",
    "fname = \"sample_1.jpg\"\n",
    "threshold =45 #二値化閾値\n",
    "\n",
    "img_color = cv2.imread(fname) #画像を読み出しオブジェクトimg_colorに代入\n",
    "img_gray = cv2.imread(fname, cv2.IMREAD_GRAYSCALE) #画像をグレースケールで読み出しオブジェクトimg_grayに代入\n",
    "img_blur = cv2.blur(img_gray, (11, 11)) #img_grayを平均化領域11×11で平均化処理しimg_blurに代入\n",
    "ret, img_binary= cv2.threshold(img_blur, threshold, 255, cv2.THRESH_BINARY) #オブジェクトimg_blurを閾値threshold(127)で二値化しimg_binaryに代入\n",
    "\n",
    "contours, hierarchy = cv2.findContours(img_binary, cv2.RETR_TREE, cv2.CHAIN_APPROX_SIMPLE) #img_binaryを領域抽出\n",
    "cnt=contours[0] #一つ目の領域をcntに代入\n",
    "cv2.drawContours(img_color, cnt, -1, (0,255,0), 2) #領域cntを緑色でimg_colorに重ね書き\n",
    "cnt_area = cv2.contourArea(cnt) #領域cntの面積をcnt_areaに代入\n",
    "\n",
    "(x,y),radius = cv2.minEnclosingCircle(cnt) #領域cntに対して外接円を求め中心座標x,yと半径radiusを取得\n",
    "center = (int(x),int(y)) #外接円を描画するために中心座標x,yを整数変換し中心座標centerとする\n",
    "radius = int(radius) #外接円を描画するためにradiusを整数変換し半径とする\n",
    "img_color = cv2.circle(img_color,center,radius,(0,0,255),2) #img_color上に外接円を赤で描画する\n",
    "\n",
    "circle_area =radius*radius*3.14 #外接円面積を求めcircle_areaに代入\n",
    "area_ratio=cnt_area/circle_area #cnt_area/circle_areをarea_ratioに代入\n",
    "\n",
    "img_binary_bgr = cv2.cvtColor(img_binary, cv2.COLOR_GRAY2BGR)  #二値化画像img_binaryをカラー画像(BGR)に変換しimg_binary_bgrとする\n",
    "img_result=cv2.vconcat([img_binary_bgr,img_color]) #img_binary_bgrとimg_colorを縦に連結しimg_resultとする\n",
    "height = img_result.shape[0] #img_resultの高さをheightに\n",
    "width = img_result.shape[1] #img_resultの幅をwidthに\n",
    "img_result_resize = cv2.resize(img_result , (int(width*0.5), int(height*0.5))) #img_resultの高さ幅を半分にしてimg_result_resizeとする\n",
    "\n",
    "print('月の面積 : ',cnt_area) #cnt_areaの表示\n",
    "print('外接円の面積 : ',circle_area) #circle_areaの表示\n",
    "print('月の面積/外接円の面積 : ',area_ratio) #cnt_area/circle_areaの表示\n",
    "\n",
    "cv2.imshow(\"result\",img_result_resize) #img_result_resizeの表示\n",
    "\n",
    "cv2.waitKey(0) #キー入力待ち\n",
    "cv2.destroyAllWindows() #ウインドウを閉じる  "
   ]
  },
  {
   "cell_type": "code",
   "execution_count": null,
   "metadata": {},
   "outputs": [],
   "source": []
  }
 ],
 "metadata": {
  "kernelspec": {
   "display_name": "Python 3",
   "language": "python",
   "name": "python3"
  },
  "language_info": {
   "codemirror_mode": {
    "name": "ipython",
    "version": 3
   },
   "file_extension": ".py",
   "mimetype": "text/x-python",
   "name": "python",
   "nbconvert_exporter": "python",
   "pygments_lexer": "ipython3",
   "version": "3.7.3"
  }
 },
 "nbformat": 4,
 "nbformat_minor": 2
}
