{
 "cells": [
  {
   "cell_type": "code",
   "execution_count": 11,
   "metadata": {},
   "outputs": [],
   "source": [
    "import cv2\n",
    "import numpy as np\n",
    "\n",
    "def extract_needle():\n",
    "    img = cv2.imread(\"sample_1.jpg\") #画像読み込み\n",
    "\n",
    "    hsv = cv2.cvtColor(img, cv2.COLOR_BGR2HSV) #BGRからHSVに変換\n",
    "    red_lower = np.array([0, 100, 100]) #下限\n",
    "    red_upper = np.array([30, 255, 255]) #上限\n",
    "\n",
    "    img_mask = cv2.inRange(hsv, red_lower, red_upper) #範囲を指定してマスク画像作成\n",
    "    img_color = cv2.bitwise_and(img, img, mask=img_mask) #元画像とマスク画像の共通部分を抽出\n",
    "\n",
    "    cv2.imwrite(\"sample_1_hsv.jpg\", img_color) #画像書き出し\n",
    "\n",
    "    #img_diff = cv2.add(img, img_color)\n",
    "    #cv2.imwrite(\"sample_1_hsv_diff.jpg\", img_diff)\n",
    "\n",
    "    #cv2.waitKey(0)\n",
    "    #cv2.destroyAllWindows()\n",
    "    \n",
    "if __name__ == '__main__':\n",
    "    extract_needle()\n",
    "    \n"
   ]
  },
  {
   "cell_type": "code",
   "execution_count": null,
   "metadata": {},
   "outputs": [],
   "source": []
  }
 ],
 "metadata": {
  "kernelspec": {
   "display_name": "Python 3",
   "language": "python",
   "name": "python3"
  },
  "language_info": {
   "codemirror_mode": {
    "name": "ipython",
    "version": 3
   },
   "file_extension": ".py",
   "mimetype": "text/x-python",
   "name": "python",
   "nbconvert_exporter": "python",
   "pygments_lexer": "ipython3",
   "version": "3.7.3"
  }
 },
 "nbformat": 4,
 "nbformat_minor": 4
}
