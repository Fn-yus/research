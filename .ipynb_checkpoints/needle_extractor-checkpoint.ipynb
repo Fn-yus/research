{
 "cells": [
  {
   "cell_type": "code",
   "execution_count": 5,
   "metadata": {},
   "outputs": [
    {
     "data": {
      "text/plain": [
       "True"
      ]
     },
     "execution_count": 5,
     "metadata": {},
     "output_type": "execute_result"
    }
   ],
   "source": [
    "import cv2\n",
    "import numpy as np\n",
    "\n",
    "img = cv2.imread(\"sample_1.jpg\") #画像読み込み\n",
    "\n",
    "hsv = cv2.cvtColor(img, cv2.COLOR_BGR2HSV) #BGRからHSVに変換\n",
    "red_lower = np.array([0, 100, 100])\n",
    "red_upper = np.array([30, 255, 255])\n",
    "\n",
    "img_mask = cv2.inRange(hsv, red_lower, red_upper)\n",
    "img_color = cv2.bitwise_and(img, img, mask=img_mask)\n",
    "\n",
    "cv2.imwrite(\"sample_1_hsv.jpg\", img_color)"
   ]
  }
 ],
 "metadata": {
  "kernelspec": {
   "display_name": "Python 3",
   "language": "python",
   "name": "python3"
  },
  "language_info": {
   "codemirror_mode": {
    "name": "ipython",
    "version": 3
   },
   "file_extension": ".py",
   "mimetype": "text/x-python",
   "name": "python",
   "nbconvert_exporter": "python",
   "pygments_lexer": "ipython3",
   "version": "3.7.3"
  }
 },
 "nbformat": 4,
 "nbformat_minor": 4
}
